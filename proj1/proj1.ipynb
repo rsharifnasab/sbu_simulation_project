{
 "cells": [
  {
   "cell_type": "code",
   "execution_count": null,
   "metadata": {},
   "outputs": [],
   "source": [
    "import numpy as np\n",
    "import networkx as nx\n",
    "import matplotlib.pyplot as plt"
   ]
  },
  {
   "cell_type": "code",
   "execution_count": null,
   "metadata": {},
   "outputs": [],
   "source": [
    "def draw_graph(G):\n",
    "    options = {\n",
    "        \"font_size\": 10,\n",
    "        \"node_size\": 300,\n",
    "        \"edgecolors\": \"black\",\n",
    "        \"linewidths\": 2,\n",
    "        \"width\": 1,\n",
    "        \"with_labels\" : False,\n",
    "    }\n",
    "    return nx.draw(G, **options)"
   ]
  },
  {
   "cell_type": "code",
   "execution_count": null,
   "metadata": {},
   "outputs": [],
   "source": [
    "G = nx.erdos_renyi_graph(n=10000, p=0.8)\n",
    "# draw_graph(G)"
   ]
  },
  {
   "cell_type": "code",
   "execution_count": null,
   "metadata": {},
   "outputs": [],
   "source": [
    "l = len(G.nodes)\n",
    "degrees_freq = np.zeros((l, ), dtype=int)\n",
    "for node in G.nodes:\n",
    "    node_degree = G.degree[node]\n",
    "    degrees_freq[node_degree] += 1"
   ]
  },
  {
   "cell_type": "code",
   "execution_count": null,
   "metadata": {},
   "outputs": [],
   "source": [
    "degrees_freq"
   ]
  },
  {
   "cell_type": "code",
   "execution_count": null,
   "metadata": {},
   "outputs": [],
   "source": [
    "plt.plot(range(degrees_freq.shape[0]), degrees_freq/l, '-')\n",
    "plt.show()"
   ]
  },
  {
   "cell_type": "code",
   "execution_count": null,
   "metadata": {},
   "outputs": [],
   "source": [
    "def init_ax(subname, x_low=-1, x_high=+1, y_low=-1, y_high=+1):\n",
    "    fig_dim = 10\n",
    "    # size of figure\n",
    "    x_step = (x_high - x_low) / 10\n",
    "    y_step = (y_high - y_low) / 10\n",
    "    # distance between ticks in figure\n",
    "\n",
    "    _, ax = plt.subplots(figsize=(fig_dim, fig_dim))\n",
    "    # create a figure\n",
    "\n",
    "    ax.set_xlabel(\"x\")\n",
    "    ax.set_ylabel(\"y\")\n",
    "    ax.set_title(f\"Scatter {subname}\")\n",
    "    # set figure titles and labels\n",
    "\n",
    "    ax.set_xlim(x_low, x_high)\n",
    "    ax.set_ylim(y_low, y_high)\n",
    "    ax.set_xticks(np.arange(x_low, x_high, x_step))\n",
    "    ax.set_yticks(np.arange(y_low, y_high, y_step))\n",
    "    # set figure thicks\n",
    "\n",
    "    return ax\n",
    "\n",
    "def scatter(ax, matrix):\n",
    "    x = matrix[:, 0]\n",
    "    y_org = matrix[:, 1]\n",
    "    y = y_org[:]\n",
    "\n",
    "    ax.scatter(x, y, color=\"blue\", s=.8)"
   ]
  },
  {
   "cell_type": "code",
   "execution_count": null,
   "metadata": {},
   "outputs": [],
   "source": [
    "# G.degree"
   ]
  },
  {
   "cell_type": "code",
   "execution_count": null,
   "metadata": {},
   "outputs": [],
   "source": [
    "ax = init_ax('subproblem 2',\n",
    "                x_low=0,\n",
    "                x_high=l,\n",
    "                y_low=0,\n",
    "                y_high=1\n",
    "            )\n",
    "ax.plot(degrees_freq/l, color='black')"
   ]
  }
 ],
 "metadata": {
  "interpreter": {
   "hash": "e719574bc6d75032f1cba391036282fab04617a06e5a19fc790ffad307d0d7df"
  },
  "kernelspec": {
   "display_name": "Python 3.9.5 ('base')",
   "language": "python",
   "name": "python3"
  },
  "language_info": {
   "codemirror_mode": {
    "name": "ipython",
    "version": 3
   },
   "file_extension": ".py",
   "mimetype": "text/x-python",
   "name": "python",
   "nbconvert_exporter": "python",
   "pygments_lexer": "ipython3",
   "version": "3.9.5"
  },
  "orig_nbformat": 4
 },
 "nbformat": 4,
 "nbformat_minor": 2
}
