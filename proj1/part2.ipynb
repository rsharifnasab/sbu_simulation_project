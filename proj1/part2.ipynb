{
 "cells": [
  {
   "cell_type": "code",
   "execution_count": null,
   "metadata": {},
   "outputs": [],
   "source": [
    "import numpy as np\n",
    "import networkx as nx\n",
    "import matplotlib.pyplot as plt"
   ]
  },
  {
   "cell_type": "code",
   "execution_count": null,
   "metadata": {},
   "outputs": [],
   "source": [
    "def draw_graph(G):\n",
    "    options = {\n",
    "        \"font_size\": 10,\n",
    "        \"node_size\": 300,\n",
    "        \"edgecolors\": \"black\",\n",
    "        \"linewidths\": 2,\n",
    "        \"width\": 1,\n",
    "        \"with_labels\" : False,\n",
    "    }\n",
    "    return nx.draw(G, **options)"
   ]
  },
  {
   "cell_type": "code",
   "execution_count": null,
   "metadata": {},
   "outputs": [],
   "source": [
    "G = nx.gnp_random_graph(n=500, p=0.5)\n",
    "l = G.number_of_nodes()\n",
    "draw_graph(G)"
   ]
  },
  {
   "cell_type": "code",
   "execution_count": null,
   "metadata": {},
   "outputs": [],
   "source": [
    "def calculate_degrees_freq(graph):\n",
    "    l = graph.number_of_nodes()\n",
    "    degrees_freq = np.zeros((l, ), dtype=int)\n",
    "    for node in graph.nodes:\n",
    "        node_degree = graph.degree[node]\n",
    "        degrees_freq[node_degree] += 1\n",
    "    return degrees_freq\n",
    "\n",
    "degrees_freq = calculate_degrees_freq(G)"
   ]
  },
  {
   "cell_type": "code",
   "execution_count": null,
   "metadata": {},
   "outputs": [],
   "source": [
    "def calculate_degrees_mean(graph):\n",
    "    return graph.number_of_edges() * 2 / graph.number_of_nodes()\n",
    "\n",
    "degrees_mean = calculate_degrees_mean(G)"
   ]
  },
  {
   "cell_type": "code",
   "execution_count": null,
   "metadata": {},
   "outputs": [],
   "source": [
    "# p(k) = e^(-<k>) * <k>^k * (k)^(-k) * e^k / sqrt(...)\n",
    "#      = e^(k-<k>) * (<k>/k)^k / sqrt(...)\n",
    "def stirling_poisson(k, mean):\n",
    "    if k == 0:\n",
    "        return np.power(np.e, -mean)\n",
    "    return np.power(np.e, k-mean) * np.power(mean/k, k) / np.sqrt(2*np.pi*k)"
   ]
  },
  {
   "cell_type": "code",
   "execution_count": null,
   "metadata": {},
   "outputs": [],
   "source": [
    "poisson_values = [stirling_poisson(x, degrees_mean) for x in np.arange(l)]"
   ]
  },
  {
   "cell_type": "code",
   "execution_count": null,
   "metadata": {},
   "outputs": [],
   "source": [
    "plt.plot(range(degrees_freq.shape[0]), degrees_freq/l, '-', label ='Simulation')\n",
    "plt.plot(range(degrees_freq.shape[0]), poisson_values, '-', label ='Expected')\n",
    "plt.legend()\n",
    "plt.show()"
   ]
  },
  {
   "cell_type": "code",
   "execution_count": null,
   "metadata": {},
   "outputs": [],
   "source": [
    "def init_ax(subname, x_low=-1, x_high=+1, y_low=-1, y_high=+1):\n",
    "    fig_dim = 10\n",
    "    # size of figure\n",
    "    x_step = (x_high - x_low) / 10\n",
    "    y_step = (y_high - y_low) / 10\n",
    "    # distance between ticks in figure\n",
    "\n",
    "    _, ax = plt.subplots(figsize=(fig_dim, fig_dim))\n",
    "    # create a figure\n",
    "\n",
    "    ax.set_xlabel(\"k\")\n",
    "    ax.set_ylabel(\"P(k)\")\n",
    "    ax.set_title(f\"Scatter {subname}\")\n",
    "    # set figure titles and labels\n",
    "\n",
    "    ax.set_xlim(x_low, x_high)\n",
    "    ax.set_ylim(y_low, y_high)\n",
    "    ax.set_xticks(np.arange(x_low, x_high, x_step))\n",
    "    ax.set_yticks(np.arange(y_low, y_high, y_step))\n",
    "    # set figure thicks\n",
    "\n",
    "    return ax\n",
    "\n",
    "def scatter(ax, matrix):\n",
    "    x = matrix[:, 0]\n",
    "    y_org = matrix[:, 1]\n",
    "    y = y_org[:]\n",
    "\n",
    "    ax.scatter(x, y, color=\"blue\", s=.8)"
   ]
  },
  {
   "cell_type": "code",
   "execution_count": null,
   "metadata": {},
   "outputs": [],
   "source": [
    "# G.degree"
   ]
  },
  {
   "cell_type": "code",
   "execution_count": null,
   "metadata": {},
   "outputs": [],
   "source": [
    "ax = init_ax('subproblem 2',\n",
    "                x_low=0,\n",
    "                x_high=l,\n",
    "                y_low=0,\n",
    "                y_high=1\n",
    "            )\n",
    "ax.plot(degrees_freq/l, color='black', label ='Simulation')\n",
    "ax.plot(poisson_values, color='red', label ='Expected')\n",
    "leg = ax.legend(loc =\"upper right\")"
   ]
  },
  {
   "cell_type": "code",
   "execution_count": null,
   "metadata": {},
   "outputs": [],
   "source": [
    "for p in np.linspace(0, 1, 5, endpoint=False):\n",
    "    G = nx.gnp_random_graph(n=500, p=p)\n",
    "    l = G.number_of_nodes()\n",
    "    degrees_freq = calculate_degrees_freq(G)\n",
    "    plt.plot(range(degrees_freq.shape[0]), degrees_freq/l, '-', label =f'p={round(p, 2)}-Simulation')\n",
    "    degrees_mean = calculate_degrees_mean(G)\n",
    "    poisson_values = [stirling_poisson(x, degrees_mean) for x in np.arange(l)]\n",
    "    plt.plot(range(degrees_freq.shape[0]), poisson_values, '-', label =f'p={round(p, 2)}-Expected')\n",
    "plt.legend()\n",
    "plt.show()"
   ]
  },
  {
   "cell_type": "code",
   "execution_count": null,
   "metadata": {},
   "outputs": [],
   "source": [
    "figure, ax = plt.subplots(nrows=2, ncols=5, figsize=(20, 8))\n",
    "for i, p in zip(range(10), np.linspace(0, 1, 10, endpoint=False)):\n",
    "    G = nx.gnp_random_graph(n=500, p=p)\n",
    "    l = G.number_of_nodes()\n",
    "    degrees_freq = calculate_degrees_freq(G)\n",
    "    ax[i//5, i%5].plot(range(degrees_freq.shape[0]), degrees_freq/l, '-', label =f'p={round(p, 2)}-Simulation')\n",
    "    degrees_mean = calculate_degrees_mean(G)\n",
    "    poisson_values = [stirling_poisson(x, degrees_mean) for x in np.arange(l)]\n",
    "    ax[i//5, i%5].plot(range(degrees_freq.shape[0]), poisson_values, '-', label =f'p={round(p, 2)}-Expected')\n",
    "    ax[i//5, i%5].legend()\n",
    "for ax_ in ax.flat:\n",
    "        ax_.label_outer()\n",
    "plt.show()"
   ]
  },
  {
   "cell_type": "code",
   "execution_count": null,
   "metadata": {},
   "outputs": [],
   "source": [
    "figure, ax = plt.subplots(nrows=2, ncols=5, figsize=(25, 8))\n",
    "for i, p in zip(range(10), np.linspace(0, 1, 10, endpoint=False)):\n",
    "\n",
    "    G = nx.gnp_random_graph(n=500, p=p)\n",
    "    l = G.number_of_nodes()\n",
    "\n",
    "    x_low, x_high = 0, l\n",
    "    y_low, y_high = 0, 1\n",
    "    x_step = (x_high - x_low) / 10\n",
    "    y_step = (y_high - y_low) / 10\n",
    "    ax[i//5, i%5].set_xlim(x_low, x_high)\n",
    "    ax[i//5, i%5].set_ylim(y_low, y_high)\n",
    "    ax[i//5, i%5].set_xticks(np.arange(x_low, x_high, x_step))\n",
    "    ax[i//5, i%5].set_yticks(np.arange(y_low, y_high, y_step))\n",
    "\n",
    "    degrees_freq = calculate_degrees_freq(G)\n",
    "    ax[i//5, i%5].plot(range(degrees_freq.shape[0]), degrees_freq/l, '-', label =f'p={round(p, 2)}-Simulation')\n",
    "    degrees_mean = calculate_degrees_mean(G)\n",
    "    poisson_values = [stirling_poisson(x, degrees_mean) for x in np.arange(l)]\n",
    "    ax[i//5, i%5].plot(range(degrees_freq.shape[0]), poisson_values, '-', label =f'p={round(p, 2)}-Expected')\n",
    "    leg = ax[i//5, i%5].legend(loc =\"upper right\")\n",
    "for ax_ in ax.flat:\n",
    "        ax_.label_outer()\n",
    "plt.show()\n"
   ]
  },
  {
   "cell_type": "code",
   "execution_count": null,
   "metadata": {},
   "outputs": [],
   "source": []
  }
 ],
 "metadata": {
  "interpreter": {
   "hash": "e719574bc6d75032f1cba391036282fab04617a06e5a19fc790ffad307d0d7df"
  },
  "kernelspec": {
   "display_name": "Python 3.9.5 ('base')",
   "language": "python",
   "name": "python3"
  },
  "language_info": {
   "codemirror_mode": {
    "name": "ipython",
    "version": 3
   },
   "file_extension": ".py",
   "mimetype": "text/x-python",
   "name": "python",
   "nbconvert_exporter": "python",
   "pygments_lexer": "ipython3",
   "version": "3.9.5"
  },
  "orig_nbformat": 4
 },
 "nbformat": 4,
 "nbformat_minor": 2
}
