{
 "cells": [
  {
   "cell_type": "code",
   "execution_count": null,
   "metadata": {},
   "outputs": [],
   "source": [
    "import numpy as np\n",
    "import networkx as nx\n",
    "import matplotlib.pyplot as plt\n",
    "import random"
   ]
  },
  {
   "cell_type": "code",
   "execution_count": null,
   "metadata": {},
   "outputs": [],
   "source": [
    "def draw_graph(G):\n",
    "    options = {\n",
    "        \"font_size\": 10,\n",
    "        \"node_size\": 300,\n",
    "        \"edgecolors\": \"black\",\n",
    "        \"linewidths\": 2,\n",
    "        \"width\": 1,\n",
    "        \"with_labels\" : False,\n",
    "    }\n",
    "    return nx.draw(G, **options)"
   ]
  },
  {
   "cell_type": "code",
   "execution_count": null,
   "metadata": {},
   "outputs": [],
   "source": [
    "dup = 0\n",
    "def gen_graph(N, M):\n",
    "    G = nx.gnm_random_graph(n=N, m=M)\n",
    "    l = G.number_of_nodes()\n",
    "    fitness = np.random.standard_normal(N)\n",
    "    fitness += abs(fitness.min())\n",
    "    return G, fitness\n",
    "\n",
    "def uniform_random_edge(G):\n",
    "    all_edges = list(G.edges)\n",
    "    return random.choice(all_edges)\n",
    "\n",
    "def second(arr):\n",
    "    return np.array(list(map(lambda a: a[1],(arr))))\n",
    "\n",
    "def fitnessed_node(G, fitness):\n",
    "    degrees = second(G.degree)\n",
    "    final_fitness = fitness * degrees * np.arange(0,N)\n",
    "    final_fitness = final_fitness / np.sum(final_fitness)\n",
    "    nodes = list(G.nodes)\n",
    "    return np.random.choice(a=nodes, p=final_fitness)\n",
    "\n",
    "def swap_edges(G, fitness):\n",
    "    global dup\n",
    "    i,j = uniform_random_edge(G)\n",
    "    m = fitnessed_node(G, fitness)\n",
    "    if G.has_edge(i,m):\n",
    "        dup+=1\n",
    "        #problemmmmmmmmmmmmmmmmmmmmmmmmmmmm\n",
    "        return swap_edges(G, fitness)\n",
    "        #print(f\"dup {i},{m}\")\n",
    "    G.remove_edge(i,j)\n",
    "    G.add_edge(i,m)\n",
    "\n",
    "def simulation(N, M, swap_count=None):\n",
    "    if swap_count is None:\n",
    "        swap_count = N*N\n",
    "    G, fitness = gen_graph(N, M)\n",
    "    \n",
    "    degrees_freq = calculate_degrees_freq(G)\n",
    "    print(f\"before: {degrees_freq}\")\n",
    "\n",
    "    for _ in range(swap_count):\n",
    "        swap_edges(G, fitness)\n",
    "\n",
    "    degrees_freq = calculate_degrees_freq(G)\n",
    "    print(f\"after: {degrees_freq}\")\n",
    "    return G\n",
    "\n",
    "def calculate_degrees_mean(graph):\n",
    "    return graph.number_of_edges() * 2.0 / graph.number_of_nodes()\n",
    "\n",
    "def calculate_degrees_freq(graph):\n",
    "    l = graph.number_of_nodes()\n",
    "    degrees_freq = np.zeros((l, ), dtype=int)\n",
    "    for node in graph.nodes:\n",
    "        # problemmmmmmmmmm\n",
    "        node_degree = graph.degree[node]\n",
    "        degrees_freq[node_degree] += 1\n",
    "    return degrees_freq\n"
   ]
  },
  {
   "cell_type": "code",
   "execution_count": null,
   "metadata": {},
   "outputs": [],
   "source": [
    "N = 70\n",
    "M = 2000\n",
    "G = simulation(N, M)\n",
    "\n",
    "print(f\"fup = {dup}\")\n",
    "\n",
    "degrees_mean = calculate_degrees_mean(G)\n",
    "print(degrees_mean)\n",
    "\n",
    "#draw_graph(G)"
   ]
  }
 ],
 "metadata": {
  "interpreter": {
   "hash": "e719574bc6d75032f1cba391036282fab04617a06e5a19fc790ffad307d0d7df"
  },
  "kernelspec": {
   "display_name": "Python 3 (ipykernel)",
   "language": "python",
   "name": "python3"
  },
  "language_info": {
   "codemirror_mode": {
    "name": "ipython",
    "version": 3
   },
   "file_extension": ".py",
   "mimetype": "text/x-python",
   "name": "python",
   "nbconvert_exporter": "python",
   "pygments_lexer": "ipython3",
   "version": "3.10.4"
  }
 },
 "nbformat": 4,
 "nbformat_minor": 4
}
