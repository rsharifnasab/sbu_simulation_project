{
 "cells": [
  {
   "cell_type": "code",
   "execution_count": null,
   "metadata": {},
   "outputs": [],
   "source": [
    "import numpy as np\n",
    "import networkx as nx\n",
    "import matplotlib.pyplot as plt\n",
    "import random"
   ]
  },
  {
   "cell_type": "code",
   "execution_count": null,
   "metadata": {},
   "outputs": [],
   "source": [
    "N = 70\n",
    "M = 500"
   ]
  },
  {
   "cell_type": "code",
   "execution_count": null,
   "metadata": {},
   "outputs": [],
   "source": [
    "def draw_graph(G):\n",
    "    options = {\n",
    "        \"font_size\": 10,\n",
    "        \"node_size\": 300,\n",
    "        \"edgecolors\": \"black\",\n",
    "        \"linewidths\": 2,\n",
    "        \"width\": 1,\n",
    "        \"with_labels\" : False,\n",
    "    }\n",
    "    return nx.draw(G, **options)\n",
    "    "
   ]
  },
  {
   "cell_type": "code",
   "execution_count": null,
   "metadata": {},
   "outputs": [],
   "source": [
    "def gen_graph(N):\n",
    "    G = nx.gnm_random_graph(n=N, m=M)\n",
    "    l = G.number_of_nodes()\n",
    "    fitness = np.random.standard_normal(N)\n",
    "    fitness += abs(fitness.min())\n",
    "\n",
    "    return G, fitness\n",
    "\n",
    "\n",
    "def uniform_random_edge(G):\n",
    "    all_edges = list(G.edges)\n",
    "    selected_edge = random.choice(all_edges)\n",
    "    print(selected_edge)\n",
    "    return selected_edge\n",
    "\n",
    "def second(arr):\n",
    "    return  np.array(list(map(lambda a: a[1],(arr))))\n",
    "    \n",
    "    # f = lambda e : e[1]\n",
    "\n",
    "    # res = np.zeros(len(elem))\n",
    "    # for elem in arr:\n",
    "    #     res\n",
    "    # return elem[1]\n",
    "\n",
    "def fitnessed_node(G, fitness):\n",
    "    degrees = second(G.degree)\n",
    "    final_fitness = (fitness * degrees * np.arange(0,N)) \n",
    "    final_fitness = final_fitness / np.sum(final_fitness)\n",
    "    nodes = list(G.nodes)\n",
    "    res = np.random.choice(a=nodes, p=final_fitness)\n",
    "    return res \n",
    "\n",
    "\n",
    "def swap_edges(G, fitness):\n",
    "    i,j = uniform_random_edge(G)\n",
    "    m = fitnessed_node(G, fitness)\n",
    "    G.remove_edge(i,j)\n",
    "    G.add_edge(i,m)\n",
    "\n"
   ]
  },
  {
   "cell_type": "code",
   "execution_count": null,
   "metadata": {},
   "outputs": [],
   "source": [
    "G, fitness = gen_graph(N)\n",
    "swap_edges(G, fitness)"
   ]
  }
 ],
 "metadata": {
  "interpreter": {
   "hash": "e719574bc6d75032f1cba391036282fab04617a06e5a19fc790ffad307d0d7df"
  },
  "kernelspec": {
   "display_name": "Python 3.9.5 ('base')",
   "language": "python",
   "name": "python3"
  },
  "language_info": {
   "codemirror_mode": {
    "name": "ipython",
    "version": 3
   },
   "file_extension": ".py",
   "mimetype": "text/x-python",
   "name": "python",
   "nbconvert_exporter": "python",
   "pygments_lexer": "ipython3",
   "version": "3.9.5"
  },
  "orig_nbformat": 4
 },
 "nbformat": 4,
 "nbformat_minor": 2
}
